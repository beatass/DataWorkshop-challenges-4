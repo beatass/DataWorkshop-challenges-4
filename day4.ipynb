{
  "nbformat": 4,
  "nbformat_minor": 0,
  "metadata": {
    "colab": {
      "name": "day4.ipynb",
      "provenance": [],
      "collapsed_sections": [],
      "mount_file_id": "1zFGw6ra__2G3fVpEieSZYfuOLns6P3tk",
      "authorship_tag": "ABX9TyNCAOfYNLhmjf7AHzcUXpxW"
    },
    "kernelspec": {
      "name": "python3",
      "display_name": "Python 3"
    }
  },
  "cells": [
    {
      "cell_type": "code",
      "metadata": {
        "id": "kWXTCuo1sV1I",
        "colab_type": "code",
        "colab": {}
      },
      "source": [
        "import pandas as pd\n",
        "\n",
        "from gensim.utils import simple_preprocess\n",
        "from gensim.models import Word2Vec\n",
        "from gensim.models.phrases import Phrases, Phraser\n",
        "\n",
        "from ast import literal_eval"
      ],
      "execution_count": 0,
      "outputs": []
    },
    {
      "cell_type": "code",
      "metadata": {
        "id": "6TBetlmexdFw",
        "colab_type": "code",
        "outputId": "a154c295-f00b-4141-a00e-26dcb4515034",
        "colab": {
          "base_uri": "https://localhost:8080/",
          "height": 34
        }
      },
      "source": [
        "cd 'drive/My Drive/Colab Notebooks/dw_challenges/dw_four/data'"
      ],
      "execution_count": 0,
      "outputs": [
        {
          "output_type": "stream",
          "text": [
            "/content/drive/My Drive/Colab Notebooks/dw_challenges/dw_four/data\n"
          ],
          "name": "stdout"
        }
      ]
    },
    {
      "cell_type": "code",
      "metadata": {
        "id": "H-QzfXRyxig5",
        "colab_type": "code",
        "outputId": "c910561c-5027-4156-8f1a-49695f855370",
        "colab": {
          "base_uri": "https://localhost:8080/",
          "height": 34
        }
      },
      "source": [
        "df = pd.read_csv('job_ofer.csv')\n",
        "df.shape"
      ],
      "execution_count": 0,
      "outputs": [
        {
          "output_type": "execute_result",
          "data": {
            "text/plain": [
              "(36109, 8)"
            ]
          },
          "metadata": {
            "tags": []
          },
          "execution_count": 3
        }
      ]
    },
    {
      "cell_type": "code",
      "metadata": {
        "id": "6Gx6pAAVxrCA",
        "colab_type": "code",
        "outputId": "d0161941-c264-4087-8acd-9c53d21ad77e",
        "colab": {
          "base_uri": "https://localhost:8080/",
          "height": 459
        }
      },
      "source": [
        "df.head()"
      ],
      "execution_count": 0,
      "outputs": [
        {
          "output_type": "execute_result",
          "data": {
            "text/html": [
              "<div>\n",
              "<style scoped>\n",
              "    .dataframe tbody tr th:only-of-type {\n",
              "        vertical-align: middle;\n",
              "    }\n",
              "\n",
              "    .dataframe tbody tr th {\n",
              "        vertical-align: top;\n",
              "    }\n",
              "\n",
              "    .dataframe thead th {\n",
              "        text-align: right;\n",
              "    }\n",
              "</style>\n",
              "<table border=\"1\" class=\"dataframe\">\n",
              "  <thead>\n",
              "    <tr style=\"text-align: right;\">\n",
              "      <th></th>\n",
              "      <th>title</th>\n",
              "      <th>company_name</th>\n",
              "      <th>address</th>\n",
              "      <th>description</th>\n",
              "      <th>seniority_level</th>\n",
              "      <th>employment_type</th>\n",
              "      <th>job_function</th>\n",
              "      <th>industries</th>\n",
              "    </tr>\n",
              "  </thead>\n",
              "  <tbody>\n",
              "    <tr>\n",
              "      <th>0</th>\n",
              "      <td>Machine Learning Engineer</td>\n",
              "      <td>Intellipro Group Inc</td>\n",
              "      <td>Palo Alto, CA, US</td>\n",
              "      <td>['About The Company', \"W*** is reshaping the f...</td>\n",
              "      <td>Entry level</td>\n",
              "      <td>Full-time</td>\n",
              "      <td>Engineering</td>\n",
              "      <td>Information Technology and Services</td>\n",
              "    </tr>\n",
              "    <tr>\n",
              "      <th>1</th>\n",
              "      <td>Deep Learning Applied Researcher - Chicago</td>\n",
              "      <td>Ethosia</td>\n",
              "      <td>Chicago, IL, US</td>\n",
              "      <td>['תיאור המשרה', 'Deep learning for Computer Vi...</td>\n",
              "      <td>Associate</td>\n",
              "      <td>Full-time</td>\n",
              "      <td>Other</td>\n",
              "      <td>Information Technology and Services</td>\n",
              "    </tr>\n",
              "    <tr>\n",
              "      <th>2</th>\n",
              "      <td>Machine Learning Engineer</td>\n",
              "      <td>Motorola Solutions</td>\n",
              "      <td>Chicago, IL, US</td>\n",
              "      <td>['Company Overview', 'At Motorola Solutions, w...</td>\n",
              "      <td>Entry level</td>\n",
              "      <td>Full-time</td>\n",
              "      <td>Engineering</td>\n",
              "      <td>Information Technology and Services</td>\n",
              "    </tr>\n",
              "    <tr>\n",
              "      <th>3</th>\n",
              "      <td>Machine Learning / Data Scientist</td>\n",
              "      <td>Proprius LLC</td>\n",
              "      <td>San Francisco, CA, US</td>\n",
              "      <td>['Our client is a digital invention agency foc...</td>\n",
              "      <td>Entry level</td>\n",
              "      <td>Full-time</td>\n",
              "      <td>Engineering</td>\n",
              "      <td>Information Technology and Services</td>\n",
              "    </tr>\n",
              "    <tr>\n",
              "      <th>4</th>\n",
              "      <td>Cloud Architect</td>\n",
              "      <td>TCS</td>\n",
              "      <td>Framingham, Massachusetts, United States</td>\n",
              "      <td>['Technical/Functional Skills', ' ', 'Good to ...</td>\n",
              "      <td>Mid-Senior level</td>\n",
              "      <td>Full-time</td>\n",
              "      <td>Engineering</td>\n",
              "      <td>Information Technology and Services</td>\n",
              "    </tr>\n",
              "  </tbody>\n",
              "</table>\n",
              "</div>"
            ],
            "text/plain": [
              "                                        title  ...                           industries\n",
              "0                   Machine Learning Engineer  ...  Information Technology and Services\n",
              "1  Deep Learning Applied Researcher - Chicago  ...  Information Technology and Services\n",
              "2                   Machine Learning Engineer  ...  Information Technology and Services\n",
              "3           Machine Learning / Data Scientist  ...  Information Technology and Services\n",
              "4                             Cloud Architect  ...  Information Technology and Services\n",
              "\n",
              "[5 rows x 8 columns]"
            ]
          },
          "metadata": {
            "tags": []
          },
          "execution_count": 4
        }
      ]
    },
    {
      "cell_type": "markdown",
      "metadata": {
        "id": "ASFsySs-x96P",
        "colab_type": "text"
      },
      "source": [
        "#Word2Vec"
      ]
    },
    {
      "cell_type": "code",
      "metadata": {
        "id": "S-bJvktVx_tG",
        "colab_type": "code",
        "colab": {}
      },
      "source": [
        "#we train our model now\n",
        "corpus = df['title'].map( simple_preprocess)"
      ],
      "execution_count": 0,
      "outputs": []
    },
    {
      "cell_type": "code",
      "metadata": {
        "id": "mtZklecgybmQ",
        "colab_type": "code",
        "outputId": "28c0967f-2f28-40c6-d4ca-bbfd517b0aa8",
        "colab": {
          "base_uri": "https://localhost:8080/",
          "height": 221
        }
      },
      "source": [
        "#we chceck how it looks like\n",
        "corpus"
      ],
      "execution_count": 0,
      "outputs": [
        {
          "output_type": "execute_result",
          "data": {
            "text/plain": [
              "0                            [machine, learning, engineer]\n",
              "1           [deep, learning, applied, researcher, chicago]\n",
              "2                            [machine, learning, engineer]\n",
              "3                     [machine, learning, data, scientist]\n",
              "4                                       [cloud, architect]\n",
              "                               ...                        \n",
              "36104    [cdl, drivers, hauling, to, canada, no, touch,...\n",
              "36105    [research, scientist, human, computer, interac...\n",
              "36106    [clinical, post, market, surveillance, special...\n",
              "36107    [excellent, teaching, opportunity, in, china, ...\n",
              "36108                [assistant, director, talent, culure]\n",
              "Name: title, Length: 36109, dtype: object"
            ]
          },
          "metadata": {
            "tags": []
          },
          "execution_count": 6
        }
      ]
    },
    {
      "cell_type": "code",
      "metadata": {
        "id": "ddKP3DCtykAP",
        "colab_type": "code",
        "colab": {}
      },
      "source": [
        "#now we transfer the 'corpus' to our model\n",
        "model = Word2Vec(corpus, size=100, window=2, min_count=1)"
      ],
      "execution_count": 0,
      "outputs": []
    },
    {
      "cell_type": "code",
      "metadata": {
        "id": "Dc0eEeuUy3W3",
        "colab_type": "code",
        "outputId": "4732f2b3-2abd-41c0-9a3e-8b95207dd3cf",
        "colab": {
          "base_uri": "https://localhost:8080/",
          "height": 241
        }
      },
      "source": [
        "model.wv.most_similar('machine')"
      ],
      "execution_count": 0,
      "outputs": [
        {
          "output_type": "stream",
          "text": [
            "/usr/local/lib/python3.6/dist-packages/gensim/matutils.py:737: FutureWarning: Conversion of the second argument of issubdtype from `int` to `np.signedinteger` is deprecated. In future, it will be treated as `np.int64 == np.dtype(int).type`.\n",
            "  if np.issubdtype(vec.dtype, np.int):\n"
          ],
          "name": "stderr"
        },
        {
          "output_type": "execute_result",
          "data": {
            "text/plain": [
              "[('deep', 0.9580487012863159),\n",
              " ('nlu', 0.859833836555481),\n",
              " ('edge', 0.8445279598236084),\n",
              " ('big', 0.8338396549224854),\n",
              " ('inference', 0.8332470655441284),\n",
              " ('bentonville', 0.8290451765060425),\n",
              " ('acceleration', 0.8259397745132446),\n",
              " ('computer', 0.820937991142273),\n",
              " ('nlp', 0.8192688226699829),\n",
              " ('scientists', 0.8123107552528381)]"
            ]
          },
          "metadata": {
            "tags": []
          },
          "execution_count": 8
        }
      ]
    },
    {
      "cell_type": "markdown",
      "metadata": {
        "id": "YHmwPbj2z9dd",
        "colab_type": "text"
      },
      "source": [
        "#Some example"
      ]
    },
    {
      "cell_type": "code",
      "metadata": {
        "id": "UF4Pg-TAz_Oh",
        "colab_type": "code",
        "outputId": "484f5a68-e7dc-4f5c-8171-1a2c2b8bf5c4",
        "colab": {
          "base_uri": "https://localhost:8080/",
          "height": 34
        }
      },
      "source": [
        "corpus = [\n",
        "    ['machine', 'learning', 'c'],\n",
        "    ['machine', 'learning', 'x'],\n",
        "    ['y', 'machine', 'learning', 'w'],\n",
        "    ['q', 'machine', 'learning', 'u', 'k'],\n",
        "]\n",
        "bigram = Phraser( Phrases(corpus, min_count=1, threshold=1))\n",
        "\n",
        "bigram[ ['k', 'machine', 'learning', 'c']]"
      ],
      "execution_count": 0,
      "outputs": [
        {
          "output_type": "execute_result",
          "data": {
            "text/plain": [
              "['k', 'machine_learning', 'c']"
            ]
          },
          "metadata": {
            "tags": []
          },
          "execution_count": 9
        }
      ]
    },
    {
      "cell_type": "markdown",
      "metadata": {
        "id": "5r6CVhxx0U_g",
        "colab_type": "text"
      },
      "source": [
        "#Title + phrases"
      ]
    },
    {
      "cell_type": "code",
      "metadata": {
        "id": "gPZnPj5W0XPt",
        "colab_type": "code",
        "colab": {}
      },
      "source": [
        "title_corpus = df['title'].map(simple_preprocess)\n",
        "\n",
        "title_bigram = Phraser( Phrases(title_corpus, min_count=1, threshold=1))"
      ],
      "execution_count": 0,
      "outputs": []
    },
    {
      "cell_type": "code",
      "metadata": {
        "id": "bXd5u4ua0lJG",
        "colab_type": "code",
        "outputId": "bd023514-4e64-45d2-9f51-be53598067cd",
        "colab": {
          "base_uri": "https://localhost:8080/",
          "height": 34
        }
      },
      "source": [
        "title_bigram[ simple_preprocess('Deep Learning Applaied Resarcher - Chicago')]"
      ],
      "execution_count": 0,
      "outputs": [
        {
          "output_type": "execute_result",
          "data": {
            "text/plain": [
              "['deep_learning', 'applaied', 'resarcher', 'chicago']"
            ]
          },
          "metadata": {
            "tags": []
          },
          "execution_count": 11
        }
      ]
    },
    {
      "cell_type": "code",
      "metadata": {
        "id": "uSDZFiRy0wYG",
        "colab_type": "code",
        "colab": {}
      },
      "source": [
        "#we chceck the whole list now i.e. the whole phrase\n",
        "title_corpus_phrase = [title_bigram[sent] for sent in title_corpus]\n",
        "model = Word2Vec(title_corpus_phrase, size=100, window=2, min_count=1)"
      ],
      "execution_count": 0,
      "outputs": []
    },
    {
      "cell_type": "code",
      "metadata": {
        "id": "gi0iEMJ71Gag",
        "colab_type": "code",
        "outputId": "5852664f-9193-4c31-862f-a4faefe63350",
        "colab": {
          "base_uri": "https://localhost:8080/",
          "height": 241
        }
      },
      "source": [
        "model.wv.most_similar('machine') #we check it"
      ],
      "execution_count": 0,
      "outputs": [
        {
          "output_type": "stream",
          "text": [
            "/usr/local/lib/python3.6/dist-packages/gensim/matutils.py:737: FutureWarning: Conversion of the second argument of issubdtype from `int` to `np.signedinteger` is deprecated. In future, it will be treated as `np.int64 == np.dtype(int).type`.\n",
            "  if np.issubdtype(vec.dtype, np.int):\n"
          ],
          "name": "stderr"
        },
        {
          "output_type": "execute_result",
          "data": {
            "text/plain": [
              "[('service_advisor', 0.9464901089668274),\n",
              " ('claims', 0.9457060694694519),\n",
              " ('digital_design', 0.94511878490448),\n",
              " ('digital_product', 0.9445255994796753),\n",
              " ('lube_technician', 0.9442460536956787),\n",
              " ('key_account', 0.9441661834716797),\n",
              " ('software_development', 0.9440932273864746),\n",
              " ('manchester_nh', 0.9440395832061768),\n",
              " ('assignment', 0.9436793327331543),\n",
              " ('retail_sales', 0.9434991478919983)]"
            ]
          },
          "metadata": {
            "tags": []
          },
          "execution_count": 13
        }
      ]
    },
    {
      "cell_type": "code",
      "metadata": {
        "id": "BBs2N9HE1QL1",
        "colab_type": "code",
        "colab": {}
      },
      "source": [
        "#above model is insufficient so we define below function\n",
        "def prepare_corpus(corpus, bigram):\n",
        "    for sent in corpus:\n",
        "        yield bigram[sent] + sent"
      ],
      "execution_count": 0,
      "outputs": []
    },
    {
      "cell_type": "code",
      "metadata": {
        "id": "ebZwZTTc1g2Q",
        "colab_type": "code",
        "outputId": "f93b5948-3b7d-40ce-92b5-313b24431aea",
        "colab": {
          "base_uri": "https://localhost:8080/",
          "height": 34
        }
      },
      "source": [
        "simple_preprocess('Deep Learning Applaied Resarcher - Chicago')"
      ],
      "execution_count": 0,
      "outputs": [
        {
          "output_type": "execute_result",
          "data": {
            "text/plain": [
              "['deep', 'learning', 'applaied', 'resarcher', 'chicago']"
            ]
          },
          "metadata": {
            "tags": []
          },
          "execution_count": 18
        }
      ]
    },
    {
      "cell_type": "code",
      "metadata": {
        "id": "4I8rZass1j6-",
        "colab_type": "code",
        "outputId": "aa2c2865-013b-45c9-e702-3524ced23c97",
        "colab": {
          "base_uri": "https://localhost:8080/",
          "height": 34
        }
      },
      "source": [
        "title_bigram[ ['deep', 'learning', 'appleid', 'resarcher', 'chicago']]"
      ],
      "execution_count": 0,
      "outputs": [
        {
          "output_type": "execute_result",
          "data": {
            "text/plain": [
              "['deep_learning', 'appleid', 'resarcher', 'chicago']"
            ]
          },
          "metadata": {
            "tags": []
          },
          "execution_count": 19
        }
      ]
    },
    {
      "cell_type": "code",
      "metadata": {
        "id": "6LnLpHvg1q5G",
        "colab_type": "code",
        "colab": {}
      },
      "source": [
        "#we glue the both list together, i.e. bigram and preprocess\n",
        "ext_corp = list(prepare_corpus(title_corpus, title_bigram))\n",
        "title_model = Word2Vec( ext_corp, size=100, window=2, min_count=1 )"
      ],
      "execution_count": 0,
      "outputs": []
    },
    {
      "cell_type": "code",
      "metadata": {
        "id": "fSgYCPLb2nX1",
        "colab_type": "code",
        "outputId": "b7eca51e-8c43-40f6-9901-86a6ae469ad6",
        "colab": {
          "base_uri": "https://localhost:8080/",
          "height": 241
        }
      },
      "source": [
        "#now it works as it should\n",
        "title_model.wv.most_similar('machine_learning')"
      ],
      "execution_count": 0,
      "outputs": [
        {
          "output_type": "stream",
          "text": [
            "/usr/local/lib/python3.6/dist-packages/gensim/matutils.py:737: FutureWarning: Conversion of the second argument of issubdtype from `int` to `np.signedinteger` is deprecated. In future, it will be treated as `np.int64 == np.dtype(int).type`.\n",
            "  if np.issubdtype(vec.dtype, np.int):\n"
          ],
          "name": "stderr"
        },
        {
          "output_type": "execute_result",
          "data": {
            "text/plain": [
              "[('artificial_intelligence', 0.9842228293418884),\n",
              " ('learning', 0.9821901321411133),\n",
              " ('deep_learning', 0.9806680083274841),\n",
              " ('computer_vision', 0.9775960445404053),\n",
              " ('computer', 0.9708652496337891),\n",
              " ('deep', 0.9707869291305542),\n",
              " ('data_engineer', 0.9658678770065308),\n",
              " ('standards_innovations', 0.9596311450004578),\n",
              " ('big_data', 0.9579919576644897),\n",
              " ('nlp', 0.9572821259498596)]"
            ]
          },
          "metadata": {
            "tags": []
          },
          "execution_count": 22
        }
      ]
    },
    {
      "cell_type": "markdown",
      "metadata": {
        "id": "UTP5MsfG3XV9",
        "colab_type": "text"
      },
      "source": [
        "#Description"
      ]
    },
    {
      "cell_type": "code",
      "metadata": {
        "id": "P2FozeoR3ZXG",
        "colab_type": "code",
        "outputId": "f1918f96-9a56-4d10-aa4d-5503642439e5",
        "colab": {
          "base_uri": "https://localhost:8080/",
          "height": 1000
        }
      },
      "source": [
        "simple_preprocess(df.sample()['description'].values[0])"
      ],
      "execution_count": 0,
      "outputs": [
        {
          "output_type": "execute_result",
          "data": {
            "text/plain": [
              "['american',\n",
              " 'century',\n",
              " 'investments',\n",
              " 'is',\n",
              " 'leading',\n",
              " 'global',\n",
              " 'asset',\n",
              " 'manager',\n",
              " 'with',\n",
              " 'over',\n",
              " 'years',\n",
              " 'of',\n",
              " 'experience',\n",
              " 'helping',\n",
              " 'investors',\n",
              " 'achieve',\n",
              " 'their',\n",
              " 'financial',\n",
              " 'goals',\n",
              " 'serving',\n",
              " 'broad',\n",
              " 'client',\n",
              " 'base',\n",
              " 'including',\n",
              " 'financial',\n",
              " 'advisors',\n",
              " 'institutions',\n",
              " 'and',\n",
              " 'individual',\n",
              " 'investors',\n",
              " 'we',\n",
              " 'offer',\n",
              " 'wide',\n",
              " 'range',\n",
              " 'of',\n",
              " 'investment',\n",
              " 'strategies',\n",
              " 'across',\n",
              " 'variety',\n",
              " 'of',\n",
              " 'investment',\n",
              " 'disciplines',\n",
              " 'privately',\n",
              " 'controlled',\n",
              " 'and',\n",
              " 'independent',\n",
              " 'we',\n",
              " 'focus',\n",
              " 'solely',\n",
              " 'on',\n",
              " 'investment',\n",
              " 'management',\n",
              " 'this',\n",
              " 'empowers',\n",
              " 'us',\n",
              " 'to',\n",
              " 'align',\n",
              " 'our',\n",
              " 'decisions',\n",
              " 'with',\n",
              " 'client',\n",
              " 'expectations',\n",
              " 'and',\n",
              " 'concentrate',\n",
              " 'on',\n",
              " 'their',\n",
              " 'long',\n",
              " 'term',\n",
              " 'money',\n",
              " 'management',\n",
              " 'needs',\n",
              " 'we',\n",
              " 'are',\n",
              " 'committed',\n",
              " 'to',\n",
              " 'providing',\n",
              " 'institutional',\n",
              " 'quality',\n",
              " 'actively',\n",
              " 'managed',\n",
              " 'solutions',\n",
              " 'with',\n",
              " 'performance',\n",
              " 'centered',\n",
              " 'mindset',\n",
              " 'our',\n",
              " 'expertise',\n",
              " 'spans',\n",
              " 'global',\n",
              " 'growth',\n",
              " 'equity',\n",
              " 'global',\n",
              " 'value',\n",
              " 'equity',\n",
              " 'disciplined',\n",
              " 'equity',\n",
              " 'multi',\n",
              " 'asset',\n",
              " 'strategies',\n",
              " 'global',\n",
              " 'fixed',\n",
              " 'income',\n",
              " 'alternatives',\n",
              " 'and',\n",
              " 'etfs',\n",
              " 'our',\n",
              " 'culture',\n",
              " 'of',\n",
              " 'winning',\n",
              " 'behaviors',\n",
              " 'exemplifies',\n",
              " 'our',\n",
              " 'dedication',\n",
              " 'to',\n",
              " 'clients',\n",
              " 'every',\n",
              " 'single',\n",
              " 'day',\n",
              " 'delivering',\n",
              " 'investment',\n",
              " 'results',\n",
              " 'enables',\n",
              " 'us',\n",
              " 'to',\n",
              " 'distribute',\n",
              " 'over',\n",
              " 'of',\n",
              " 'our',\n",
              " 'dividends',\n",
              " 'or',\n",
              " 'more',\n",
              " 'than',\n",
              " 'billion',\n",
              " 'since',\n",
              " 'to',\n",
              " 'the',\n",
              " 'stowers',\n",
              " 'institute',\n",
              " 'for',\n",
              " 'medical',\n",
              " 'research',\n",
              " 'person',\n",
              " 'non',\n",
              " 'profit',\n",
              " 'biomedical',\n",
              " 'research',\n",
              " 'organization',\n",
              " 'with',\n",
              " 'controlling',\n",
              " 'interest',\n",
              " 'in',\n",
              " 'american',\n",
              " 'century',\n",
              " 'investments',\n",
              " 'our',\n",
              " 'dividend',\n",
              " 'payments',\n",
              " 'provide',\n",
              " 'ongoing',\n",
              " 'financial',\n",
              " 'support',\n",
              " 'for',\n",
              " 'the',\n",
              " 'institute',\n",
              " 'work',\n",
              " 'of',\n",
              " 'uncovering',\n",
              " 'the',\n",
              " 'causes',\n",
              " 'treatments',\n",
              " 'and',\n",
              " 'prevention',\n",
              " 'of',\n",
              " 'life',\n",
              " 'threatening',\n",
              " 'diseases',\n",
              " 'like',\n",
              " 'cancer',\n",
              " 'headquartered',\n",
              " 'in',\n",
              " 'kansas',\n",
              " 'city',\n",
              " 'mo',\n",
              " 'we',\n",
              " 'also',\n",
              " 'have',\n",
              " 'offices',\n",
              " 'located',\n",
              " 'in',\n",
              " 'new',\n",
              " 'york',\n",
              " 'london',\n",
              " 'hong',\n",
              " 'kong',\n",
              " 'sydney',\n",
              " 'el',\n",
              " 'segundo',\n",
              " 'ca',\n",
              " 'los',\n",
              " 'angeles',\n",
              " 'area',\n",
              " 'and',\n",
              " 'mountain',\n",
              " 'view',\n",
              " 'ca',\n",
              " 'silicon',\n",
              " 'valley',\n",
              " 'for',\n",
              " 'more',\n",
              " 'information',\n",
              " 'please',\n",
              " 'visit',\n",
              " 'americancentury',\n",
              " 'com',\n",
              " 'the',\n",
              " 'primary',\n",
              " 'responsibility',\n",
              " 'of',\n",
              " 'the',\n",
              " 'vice',\n",
              " 'president',\n",
              " 'regional',\n",
              " 'retirement',\n",
              " 'consultant',\n",
              " 'is',\n",
              " 'to',\n",
              " 'build',\n",
              " 'relationships',\n",
              " 'with',\n",
              " 'assigned',\n",
              " 'clients',\n",
              " 'in',\n",
              " 'territory',\n",
              " 'this',\n",
              " 'includes',\n",
              " 'retirement',\n",
              " 'financial',\n",
              " 'advisors',\n",
              " 'retirement',\n",
              " 'consultants',\n",
              " 'and',\n",
              " 'platform',\n",
              " 'wholesalers',\n",
              " 'at',\n",
              " 'insurance',\n",
              " 'recordkeepers',\n",
              " 'tpa',\n",
              " 'recordkeepers',\n",
              " 'retirement',\n",
              " 'advisors',\n",
              " 'consulting',\n",
              " 'firms',\n",
              " 'and',\n",
              " 'local',\n",
              " 'tpas',\n",
              " 'consultants',\n",
              " 'partner',\n",
              " 'with',\n",
              " 'retail',\n",
              " 'wholesalers',\n",
              " 'to',\n",
              " 'provide',\n",
              " 'retirement',\n",
              " 'plan',\n",
              " 'products',\n",
              " 'this',\n",
              " 'position',\n",
              " 'is',\n",
              " 'responsible',\n",
              " 'for',\n",
              " 'establishing',\n",
              " 'relationships',\n",
              " 'with',\n",
              " 'defined',\n",
              " 'contribution',\n",
              " 'advisors',\n",
              " 'and',\n",
              " 'driving',\n",
              " 'sales',\n",
              " 'within',\n",
              " 'the',\n",
              " 'assigned',\n",
              " 'territory',\n",
              " 'which',\n",
              " 'includes',\n",
              " 'the',\n",
              " 'state',\n",
              " 'of',\n",
              " 'texas',\n",
              " 'residing',\n",
              " 'in',\n",
              " 'dallas',\n",
              " 'or',\n",
              " 'houston',\n",
              " 'is',\n",
              " 'strongly',\n",
              " 'preferred',\n",
              " 'what',\n",
              " 'will',\n",
              " 'our',\n",
              " 'next',\n",
              " 'extraordinary',\n",
              " 'teammate',\n",
              " 'do',\n",
              " 'you',\n",
              " 'will',\n",
              " 'build',\n",
              " 'relationships',\n",
              " 'and',\n",
              " 'increase',\n",
              " 'the',\n",
              " 'assets',\n",
              " 'of',\n",
              " 'assigned',\n",
              " 'clients',\n",
              " 'this',\n",
              " 'will',\n",
              " 'involve',\n",
              " 'dedicated',\n",
              " 'call',\n",
              " 'rotation',\n",
              " 'site',\n",
              " 'visits',\n",
              " 'being',\n",
              " 'consultative',\n",
              " 'providing',\n",
              " 'value',\n",
              " 'added',\n",
              " 'services',\n",
              " 'and',\n",
              " 'presenting',\n",
              " 'to',\n",
              " 'groups',\n",
              " 'and',\n",
              " 'individuals',\n",
              " 'you',\n",
              " 'will',\n",
              " 'align',\n",
              " 'with',\n",
              " 'regional',\n",
              " 'retirement',\n",
              " 'specialist',\n",
              " 'internal',\n",
              " 'wholesaler',\n",
              " 'to',\n",
              " 'implement',\n",
              " 'your',\n",
              " 'territory',\n",
              " 'plan',\n",
              " 'you',\n",
              " 'will',\n",
              " 'utilize',\n",
              " 'fund',\n",
              " 'analysis',\n",
              " 'software',\n",
              " 'systems',\n",
              " 'to',\n",
              " 'strategically',\n",
              " 'leverage',\n",
              " 'our',\n",
              " 'offerings',\n",
              " 'in',\n",
              " 'the',\n",
              " 'client',\n",
              " 'product',\n",
              " 'you',\n",
              " 'will',\n",
              " 'develop',\n",
              " 'and',\n",
              " 'implement',\n",
              " 'marketing',\n",
              " 'plans',\n",
              " 'for',\n",
              " 'assigned',\n",
              " 'clients',\n",
              " 'work',\n",
              " 'closely',\n",
              " 'with',\n",
              " 'marketing',\n",
              " 'and',\n",
              " 'communications',\n",
              " 'program',\n",
              " 'managers',\n",
              " 'on',\n",
              " 'both',\n",
              " 'the',\n",
              " 'development',\n",
              " 'and',\n",
              " 'implementation',\n",
              " 'of',\n",
              " 'these',\n",
              " 'plans',\n",
              " 'you',\n",
              " 'will',\n",
              " 'assist',\n",
              " 'in',\n",
              " 'timely',\n",
              " 'dissemination',\n",
              " 'of',\n",
              " 'sales',\n",
              " 'information',\n",
              " 'identify',\n",
              " 'and',\n",
              " 'build',\n",
              " 'current',\n",
              " 'lists',\n",
              " 'of',\n",
              " 'key',\n",
              " 'influencers',\n",
              " 'and',\n",
              " 'producers',\n",
              " 'maintain',\n",
              " 'history',\n",
              " 'of',\n",
              " 'sales',\n",
              " 'activity',\n",
              " 'and',\n",
              " 'call',\n",
              " 'data',\n",
              " 'analyze',\n",
              " 'sales',\n",
              " 'data',\n",
              " 'to',\n",
              " 'provide',\n",
              " 'reports',\n",
              " 'access',\n",
              " 'profitability',\n",
              " 'identify',\n",
              " 'trends',\n",
              " 'and',\n",
              " 'make',\n",
              " 'recommendations',\n",
              " 'you',\n",
              " 'will',\n",
              " 'participate',\n",
              " 'in',\n",
              " 'various',\n",
              " 'regional',\n",
              " 'and',\n",
              " 'national',\n",
              " 'conferences',\n",
              " 'you',\n",
              " 'will',\n",
              " 'maintain',\n",
              " 'current',\n",
              " 'knowledge',\n",
              " 'of',\n",
              " 'american',\n",
              " 'century',\n",
              " 'investment',\n",
              " 'management',\n",
              " 'industry',\n",
              " 'events',\n",
              " 'and',\n",
              " 'recent',\n",
              " 'developments',\n",
              " 'involving',\n",
              " 'our',\n",
              " 'clients',\n",
              " 'you',\n",
              " 'will',\n",
              " 'partner',\n",
              " 'with',\n",
              " 'retail',\n",
              " 'wholesalers',\n",
              " 'to',\n",
              " 'uncover',\n",
              " 'and',\n",
              " 'identify',\n",
              " 'new',\n",
              " 'opportunities',\n",
              " 'what',\n",
              " 'will',\n",
              " 'you',\n",
              " 'bring',\n",
              " 'bachelor',\n",
              " 'degree',\n",
              " 'in',\n",
              " 'related',\n",
              " 'field',\n",
              " 'or',\n",
              " 'an',\n",
              " 'equivalent',\n",
              " 'combination',\n",
              " 'of',\n",
              " 'education',\n",
              " 'and',\n",
              " 'work',\n",
              " 'experience',\n",
              " 'ten',\n",
              " 'years',\n",
              " 'financial',\n",
              " 'industry',\n",
              " 'experience',\n",
              " 'preferred',\n",
              " 'with',\n",
              " 'five',\n",
              " 'to',\n",
              " 'ten',\n",
              " 'years',\n",
              " 'external',\n",
              " 'wholesaling',\n",
              " 'experience',\n",
              " 'completion',\n",
              " 'of',\n",
              " 'series',\n",
              " 'and',\n",
              " 'finra',\n",
              " 'licenses',\n",
              " 'demonstrated',\n",
              " 'interpersonal',\n",
              " 'investment',\n",
              " 'analysis',\n",
              " 'written',\n",
              " 'and',\n",
              " 'verbal',\n",
              " 'communication',\n",
              " 'skills',\n",
              " 'required',\n",
              " 'working',\n",
              " 'knowledge',\n",
              " 'of',\n",
              " 'microsoft',\n",
              " 'office',\n",
              " 'morningstar',\n",
              " 'principia',\n",
              " 'and',\n",
              " 'zephyr',\n",
              " 'styleadvisor',\n",
              " 'outlook',\n",
              " 'salesforce',\n",
              " 'crm',\n",
              " 'software',\n",
              " 'preferred',\n",
              " 'american',\n",
              " 'century',\n",
              " 'investment',\n",
              " 'services',\n",
              " 'inc',\n",
              " 'distributor',\n",
              " 'american',\n",
              " 'century',\n",
              " 'proprietary',\n",
              " 'holdings',\n",
              " 'inc',\n",
              " 'all',\n",
              " 'rights',\n",
              " 'reserved',\n",
              " 'eoe',\n",
              " 'policy',\n",
              " 'statement',\n",
              " 'american',\n",
              " 'century',\n",
              " 'investments',\n",
              " 'believes',\n",
              " 'all',\n",
              " 'individuals',\n",
              " 'are',\n",
              " 'entitled',\n",
              " 'to',\n",
              " 'equal',\n",
              " 'employment',\n",
              " 'opportunity',\n",
              " 'and',\n",
              " 'advancement',\n",
              " 'opportunities',\n",
              " 'without',\n",
              " 'regard',\n",
              " 'to',\n",
              " 'race',\n",
              " 'religious',\n",
              " 'creed',\n",
              " 'color',\n",
              " 'sex',\n",
              " 'national',\n",
              " 'origin',\n",
              " 'ancestry',\n",
              " 'physical',\n",
              " 'disability',\n",
              " 'mental',\n",
              " 'disability',\n",
              " 'medical',\n",
              " 'condition',\n",
              " 'genetic',\n",
              " 'information',\n",
              " 'marital',\n",
              " 'status',\n",
              " 'gender',\n",
              " 'gender',\n",
              " 'identity',\n",
              " 'gender',\n",
              " 'expression',\n",
              " 'age',\n",
              " 'for',\n",
              " 'individuals',\n",
              " 'forty',\n",
              " 'years',\n",
              " 'of',\n",
              " 'age',\n",
              " 'and',\n",
              " 'older',\n",
              " 'military',\n",
              " 'and',\n",
              " 'veteran',\n",
              " 'status',\n",
              " 'sexual',\n",
              " 'orientation',\n",
              " 'and',\n",
              " 'any',\n",
              " 'other',\n",
              " 'basis',\n",
              " 'protected',\n",
              " 'by',\n",
              " 'applicable',\n",
              " 'federal',\n",
              " 'state',\n",
              " 'and',\n",
              " 'local',\n",
              " 'laws',\n",
              " 'aci',\n",
              " 'does',\n",
              " 'not',\n",
              " 'discriminate',\n",
              " 'or',\n",
              " 'adopt',\n",
              " 'any',\n",
              " 'policy',\n",
              " 'that',\n",
              " 'discriminates',\n",
              " 'against',\n",
              " 'an',\n",
              " 'individual',\n",
              " 'or',\n",
              " 'any',\n",
              " 'group',\n",
              " 'of',\n",
              " 'individuals',\n",
              " 'on',\n",
              " 'any',\n",
              " 'of',\n",
              " 'these',\n",
              " 'bases']"
            ]
          },
          "metadata": {
            "tags": []
          },
          "execution_count": 25
        }
      ]
    },
    {
      "cell_type": "code",
      "metadata": {
        "id": "tBZxPS4B6Jd2",
        "colab_type": "code",
        "colab": {}
      },
      "source": [
        "#we do the same as above for bigram\n",
        "descr_corpus = df['description'].map(simple_preprocess)\n",
        "descr_bigram = Phraser(Phrases(descr_corpus, min_count=1, threshold=1))"
      ],
      "execution_count": 0,
      "outputs": []
    },
    {
      "cell_type": "code",
      "metadata": {
        "id": "3OYmi3xu6US8",
        "colab_type": "code",
        "colab": {}
      },
      "source": [
        "ext_descr_corp = list(prepare_corpus(descr_corpus, descr_bigram))\n",
        "descr_model = Word2Vec(ext_corp, size=100, window=2, min_count=1)"
      ],
      "execution_count": 0,
      "outputs": []
    },
    {
      "cell_type": "code",
      "metadata": {
        "id": "XzVuQXlN6b-a",
        "colab_type": "code",
        "outputId": "d64529ce-4cdf-46a4-a000-30d386d49007",
        "colab": {
          "base_uri": "https://localhost:8080/",
          "height": 241
        }
      },
      "source": [
        "descr_model.wv.most_similar('nlp')"
      ],
      "execution_count": 0,
      "outputs": [
        {
          "output_type": "stream",
          "text": [
            "/usr/local/lib/python3.6/dist-packages/gensim/matutils.py:737: FutureWarning: Conversion of the second argument of issubdtype from `int` to `np.signedinteger` is deprecated. In future, it will be treated as `np.int64 == np.dtype(int).type`.\n",
            "  if np.issubdtype(vec.dtype, np.int):\n"
          ],
          "name": "stderr"
        },
        {
          "output_type": "execute_result",
          "data": {
            "text/plain": [
              "[('ml', 0.9937878847122192),\n",
              " ('artificial_intelligence', 0.9929126501083374),\n",
              " ('computer_vision', 0.9906418919563293),\n",
              " ('big_data', 0.9904025197029114),\n",
              " ('alpharetta', 0.9898133277893066),\n",
              " ('deep_learning', 0.9894805550575256),\n",
              " ('computer', 0.9887856245040894),\n",
              " ('applied_data', 0.9858071208000183),\n",
              " ('pac', 0.9838696718215942),\n",
              " ('niwc', 0.9833294749259949)]"
            ]
          },
          "metadata": {
            "tags": []
          },
          "execution_count": 28
        }
      ]
    },
    {
      "cell_type": "code",
      "metadata": {
        "id": "DB0QRiX067gJ",
        "colab_type": "code",
        "outputId": "cd21f347-bac5-46c8-bad5-e8b288b8d731",
        "colab": {
          "base_uri": "https://localhost:8080/",
          "height": 241
        }
      },
      "source": [
        "descr_model.wv.most_similar('pytorch')"
      ],
      "execution_count": 0,
      "outputs": [
        {
          "output_type": "stream",
          "text": [
            "/usr/local/lib/python3.6/dist-packages/gensim/matutils.py:737: FutureWarning: Conversion of the second argument of issubdtype from `int` to `np.signedinteger` is deprecated. In future, it will be treated as `np.int64 == np.dtype(int).type`.\n",
            "  if np.issubdtype(vec.dtype, np.int):\n"
          ],
          "name": "stderr"
        },
        {
          "output_type": "execute_result",
          "data": {
            "text/plain": [
              "[('solution_architect', 0.984494686126709),\n",
              " ('rf', 0.9828256368637085),\n",
              " ('sync', 0.981911301612854),\n",
              " ('drilling', 0.9815680980682373),\n",
              " ('test_engineer', 0.9807174205780029),\n",
              " ('battery', 0.9802350997924805),\n",
              " ('wastewater', 0.9800859689712524),\n",
              " ('estimator', 0.9799182415008545),\n",
              " ('mission', 0.9789508581161499),\n",
              " ('statistical', 0.9788795709609985)]"
            ]
          },
          "metadata": {
            "tags": []
          },
          "execution_count": 34
        }
      ]
    },
    {
      "cell_type": "code",
      "metadata": {
        "id": "i1od8M4982th",
        "colab_type": "code",
        "outputId": "8097cb14-4baa-4b0a-932f-14895f60c826",
        "colab": {
          "base_uri": "https://localhost:8080/",
          "height": 71
        }
      },
      "source": [
        "df.sample()['description'].map(literal_eval).values"
      ],
      "execution_count": 0,
      "outputs": [
        {
          "output_type": "execute_result",
          "data": {
            "text/plain": [
              "array([list(['Job Description', 'info: an academically rigorous private international school at primary school levels, we', 'implement a bilingual educational program, combining the essence of traditional Chinese', 'compulsory courses with the trans-disciplinary activities. Courses are taught in both English and', 'Chinese, with class sizes no larger than 20 students per class.', 'Requirements', 'Main Responsibilities：', 'Worktime: Monday - Friday, 8:00 - 17:00, one hour lunch break;', 'Lesson planning according to teaching materials, and students’ English level;', 'Promoting learning in a professional and comprehensive manner;', 'Creating an environment to promote English interaction among Chinese students in the', 'class;', ' Observing and evaluating each student’s behavior and educational needs, and providing', 'individualized instruction to each student as needed;', ' Collaborating with other teachers, parents and administration and participating in regular', 'meetings, seminars and trainings;', 'Maximum teaching hours: 20 class hours per week (weekends off);', 'Classs size: no more than 20;', 'Class duration: 40-45minutes.', 'We Offer', 'Benefits:', 'click apply RMB monthly(before tax), based on qualifications', 'Furnished apartment provided for free;', '6,000 RMB airfare allowance;', '‘Z’ work visa provided;', 'Paid winter break;', 'Health insurance and physical examination provided;', '11 Chinese national holidays per year, winter holidays.', 'Free Airport pick-up upon arrival', 'Skills', 'English language skills, Language Teaching'])],\n",
              "      dtype=object)"
            ]
          },
          "metadata": {
            "tags": []
          },
          "execution_count": 35
        }
      ]
    },
    {
      "cell_type": "code",
      "metadata": {
        "id": "WlkNxGvx8sb1",
        "colab_type": "code",
        "outputId": "59687ec5-4718-41c3-dbef-4bac6526a9fc",
        "colab": {
          "base_uri": "https://localhost:8080/",
          "height": 71
        }
      },
      "source": [
        "for line in df.sample()['description'].map(literal_eval).values[0]:\n",
        "    print(line)\n",
        "    print(\"\")"
      ],
      "execution_count": 0,
      "outputs": [
        {
          "output_type": "stream",
          "text": [
            "8 years of experience in the Information Technology 3 years of experience as a Senior Business Analyst Bachelor degree in business, information technology or related field Must have experience working on large scale projects Strong project management, ability to successfully manage multiple tasks at any given point, strong relationship building skills communication skills\n",
            "\n"
          ],
          "name": "stdout"
        }
      ]
    }
  ]
}